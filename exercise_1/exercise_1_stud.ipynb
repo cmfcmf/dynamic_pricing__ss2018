{
 "cells": [
  {
   "cell_type": "markdown",
   "metadata": {},
   "source": [
    "# Exercise 1\n",
    "\n",
    "### Data-Driven Demand Learning and Dynamic Pricing Strategies in Competitive Markets\n",
    "https://hpi.de/plattner/teaching/summer-term-2018/data-driven-demand-learning-and-dynamic-pricing-strategies.html\n",
    "\n",
    "Homework:\n",
    "* The time between the merchants' price adjustments are randomly chosen between 0.8 and 1.2\n",
    "  * **Task:** get familiar with the platform by changing the distribution and examining the effects\n",
    "* A merchant's chance to sell is also determine by the fixed qualities/ratings assigned\n",
    "  * **Task:** get familiar with the scoring function and study the effects of various weights that determine the scores\n",
    "* Customer arrival time are currently created using a uniform distribution\n",
    "  * **Task:** please change to exponential distribution\n",
    "* The merchants currently use a randomized pricing strategy\n",
    "  * **Task:** implement the following strategies\n",
    "  * Two merchants have fixed pricing strategies at 11 and 13 resp.\n",
    "  * The remaining merchants use varying two-bound strategies (undercutting by 0.5):\n",
    "    * #1: with 10% change a random price is used, otherwise lower bound of 4.9 and upper bound of 10\n",
    "    * #2: lower bound of 3.9, upper bound of 9\n",
    "    * #3: lower bound of 5.9, upper bound of 12\n"
   ]
  },
  {
   "cell_type": "code",
   "execution_count": 2,
   "metadata": {},
   "outputs": [],
   "source": [
    "import random\n",
    "import numpy as np\n",
    "import pandas as pd\n",
    "\n",
    "import matplotlib.pyplot as plt\n",
    "\n",
    "seed = 17*17\n",
    "np.random.seed(seed)\n",
    "random.seed(seed)"
   ]
  },
  {
   "cell_type": "code",
   "execution_count": 3,
   "metadata": {},
   "outputs": [],
   "source": [
    "K = 5                     # number of players\n",
    "TT = 100                  # time horizon\n",
    "M = TT + 100              # number of market reaction events. we create more event than the\n",
    "                          # horizon since we might end up short of 100 (e.g., avg of uniforms = 0.945)\n",
    "\n",
    "cc = 1;                   # mittlerer Abstand zwischen Kunden arrivals\n",
    "C = int(TT / cc + 100)    # number of customer events"
   ]
  },
  {
   "cell_type": "markdown",
   "metadata": {},
   "source": [
    "### Simulation Parameters (wann Kunden kommen und Firmen adjusten)"
   ]
  },
  {
   "cell_type": "code",
   "execution_count": 4,
   "metadata": {},
   "outputs": [],
   "source": [
    "Dk =  np.random.uniform(0.8, 1.2, (M, K))     # time between price adjustments of firm k\n",
    "tk = Dk                                       # time of adjustments of firm k\n",
    "tk[0,:] = np.random.uniform(0, 1, K)\n",
    "for m in range(1, M):\n",
    "    for k in range(K):\n",
    "        tk[m, k] = tk[m - 1, k] + Dk[m, k]\n",
    "\n",
    "AT = tk.ravel()                               # set of price adjustments of all firms before time horizon TT\n",
    "AT = np.sort(np.unique(np.append(AT[AT<TT], 100)))\n",
    "\n",
    "NAT = len(AT)                                 # number of adjustment times\n",
    "\n",
    "# param tm   {i in 0..NAT} := if i=0 or i>NAT then 0 else member(i,AT);  # Zeitpunkt der i-ten Preisanpassung\n",
    "tm = [0] * (NAT + 1)                          # Zeitpunkt der i-ten Preisanpassung\n",
    "for i in range(NAT):\n",
    "    tm[i + 1] = AT[i]\n",
    "DM = [0] * NAT                                 # time between adjustment events\n",
    "for i in range(NAT):\n",
    "    DM[i] = tm[i+1] - tm[i]\n",
    "\n",
    "DC = np.random.uniform(size=C) * cc             # waitung time between customer arrivals\n",
    "tc =[-1] * C                                    # Zeitpunkt des Ankommens des c-ten Kundens\n",
    "for i in range(1, C):\n",
    "    tc[i] = tc[i - 1] + DC[i]\n",
    "\n",
    "# param ZM   {i in 1..NAT} := min{k in 1..K:sum{j in 1..M:tk[j,k]=tm[i]}1 = 1} k; \n",
    "ZM = [0] * NAT                                   # firm k die beim i-ten Gesamtadjust adjusted\n",
    "for i, t in enumerate(tm):\n",
    "    res = np.where(tk == t)\n",
    "    if len(res[1]) > 0:\n",
    "        ZM[i] = res[1][0]\n",
    "\n",
    "SC = np.zeros(shape=(C, K))                      # paraemter for customer c scoring of firm k\n",
    "Zq = np.random.uniform(size = C)                 # customer c random scoring weight for quality\n",
    "# Zq = np.ones((C,), dtype=int)                  # helper for debugging\n",
    "Zr = np.random.uniform(0, 0.2, size = C)         # customer c random scoring weight for rating\n",
    "\n",
    "ZC = np.full(C, -1, dtype=int)                      # for decision of customer c"
   ]
  },
  {
   "cell_type": "markdown",
   "metadata": {},
   "source": [
    "**A few plots**"
   ]
  },
  {
   "cell_type": "code",
   "execution_count": 5,
   "metadata": {},
   "outputs": [
    {
     "data": {
      "image/png": "[encoded data removed]",
      "text/plain": [
       "<Figure size 432x288 with 1 Axes>"
      ]
     },
     "metadata": {},
     "output_type": "display_data"
    }
   ],
   "source": [
    "tc_plot = np.array(tc)\n",
    "tm_plot = np.array(tm)\n",
    "plot_limit = 30\n",
    "plt.plot(tc_plot[tc_plot<plot_limit],[2 for _ in tc_plot[tc_plot<plot_limit]],'r|', label='Customer arrivals')\n",
    "plt.plot(tm_plot[tm_plot<plot_limit],[1 for _ in tm_plot[tm_plot<plot_limit]],'g|', label='Price adjustments')\n",
    "plt.legend(bbox_to_anchor=(0.99, 0.99), loc=1, borderaxespad=0.)\n",
    "axes = plt.gca()\n",
    "plt.title('Points in time of customer arrivals (no yet exponential!)\\nand price updates (uniform).')\n",
    "axes.set_ylim([0.0, 3.0])\n",
    "plt.show()"
   ]
  },
  {
   "cell_type": "markdown",
   "metadata": {},
   "source": [
    "### Aktuelle Marktsituation"
   ]
  },
  {
   "cell_type": "code",
   "execution_count": 6,
   "metadata": {},
   "outputs": [],
   "source": [
    "p = np.round(np.random.uniform(6, 16, size = K))                    # current prices competitors\n",
    "q = np.round(np.random.uniform(0.5, 5.5, size = K))                 # current quality competitors\n",
    "r = np.round(np.random.uniform(90, 100, size = K), decimals = 1)    # current prices competitors\n",
    "\n",
    "# q = np.ones((K,), dtype=int)                                      # helper for debugging"
   ]
  },
  {
   "cell_type": "markdown",
   "metadata": {},
   "source": [
    "### Hilfsparameter zur Aufzeichnung der Simulation"
   ]
  },
  {
   "cell_type": "code",
   "execution_count": 7,
   "metadata": {},
   "outputs": [],
   "source": [
    "T = 0                                                         # current time in process\n",
    "\n",
    "count = 0                                                     # zaehler fuer adjustments of firm 1\n",
    "F = 0                                                         # betrachtete Firm (obda firm 1)\n",
    "\n",
    "B = sum([1 if ZM[i] == F else 0 for i in range(NAT - 1)])     # Anzahl der adjustments of firm 1\n",
    "\n",
    "tb = np.zeros(B + 1)                                          # Zeit der adjustments of firm 1\n",
    "db = [tb[i] - tb[i-1] for i in range(1, B)]                   # Zeit zwischen adjustments of firm 1\n",
    "y  = np.zeros(B + 1)                                          # anzahl verkaeufe von firm 1 zwischen adjustments\n",
    "\n",
    "price  = np.full((1, B + 1), p[F])                            # our Angebotspreis\n",
    "quali  = np.full((1, B + 1), q[F])                            # our quality\n",
    "rating = np.full((1, B + 1), r[F])                            # our rating\n",
    "\n",
    "pcomp = np.zeros(1)                                           # Preise competitor\n",
    "qcomp = np.zeros(1)                                           # quality competitor\n",
    "rcomp = np.zeros(1)                                           # rating competitor\n",
    "\n",
    "G = np.zeros(K)                                               # profit of all firms\n",
    "\n",
    "G_acc = np.zeros(shape=(NAT, K))                              # accumulated profit of all firms\n",
    "p_history = np.zeros(shape=(NAT, K))                          # storing prices over time"
   ]
  },
  {
   "cell_type": "markdown",
   "metadata": {},
   "source": [
    "# Simulation"
   ]
  },
  {
   "cell_type": "code",
   "execution_count": 11,
   "metadata": {
    "scrolled": true
   },
   "outputs": [
    {
     "name": "stdout",
     "output_type": "stream",
     "text": [
      "   t               \t   p1    G1         p2   G2            p3   G3\n"
     ]
    }
   ],
   "source": [
    "print(\"   t               \\t   p1    G1         p2   G2            p3   G3\")\n",
    "for i in range(NAT): # gehe M market situations durch, getrennt durch einzelne firm adjustments\n",
    "    for c in range(C):\n",
    "        # betrachte ankommende Kunden zwischen firm adjustments\n",
    "        if not (tm[i] <= tc[c] < tm[i+1]):\n",
    "            continue\n",
    "\n",
    "        for k in range(K):\n",
    "            # Scoring Berechnung für jedes aktuelle Angebot\n",
    "            SC[c, k] = p[k] + Zq[c] * q[k] + Zr[c] * (100 - r[k])\n",
    "\n",
    "        if np.min(SC[c,]) < random.randint(5, 16):  # willingness-to-pay des Kunden gross genug?\n",
    "            scores = list(SC[c,])\n",
    "            ZC[c] = scores.index(min(scores))\n",
    "\n",
    "            # profit accumulation for firm ZC[c] that sells to customer c  \n",
    "            G[ZC[c]] += p[ZC[c]]\n",
    "\n",
    "    G_acc[i, ] = G\n",
    "\n",
    "    T += DM[i]\n",
    "    if T < 100:   # Ausgabe der Simulations-Events bis T=100\n",
    "        cust_cnt = sum([1 if tm[i] <= tc[c] < tm[i+1] else 0 for c in range(C)])\n",
    "        did_customer_arrive = ' '\n",
    "        if cust_cnt > 0:\n",
    "            did_customer_arrive = '-'\n",
    "        print(\"\\n {:5.2f} - {:5.2f} {}:\\t\".format(tm[i], tm[i+1], did_customer_arrive), end='')\n",
    "        for k in range(K):\n",
    "            sale_cnt = sum([1 if ((tm[i] <= tc[c] < tm[i+1]) and k == ZC[c]) else 0 for c in range(C)])\n",
    "            merchant_sold = ' '\n",
    "            if sale_cnt > 0:\n",
    "                merchant_sold = str('*' * sale_cnt)\n",
    "            print(\"{:>3}{:5.1f} ({:6.2f})  \".format(merchant_sold, p[k], G[k]/T), end='')\n",
    "\n",
    "                                               \n",
    "    if T < TT:  # Preisanpassungen der Firmen (je nach dem wer dran ist)\n",
    "        # stub for the task to implement strategies\n",
    "        if ZM[i] == 0:\n",
    "            price = 17\n",
    "        elif ZM[i] == 1:\n",
    "            price = 17\n",
    "\n",
    "        price = 6 + round(random.random() * 9, 2)\n",
    "        p[ZM[i]] = price\n",
    "\n",
    "    p_history[i, ] = p"
   ]
  },
  {
   "cell_type": "code",
   "execution_count": 12,
   "metadata": {},
   "outputs": [
    {
     "ename": "NameError",
     "evalue": "name '_converter' is not defined",
     "output_type": "error",
     "traceback": [
      "\u001b[0;31m---------------------------------------------------------------------------\u001b[0m",
      "\u001b[0;31mNameError\u001b[0m                                 Traceback (most recent call last)",
      "\u001b[0;32m<ipython-input-12-e94ac7271a23>\u001b[0m in \u001b[0;36m<module>\u001b[0;34m()\u001b[0m\n\u001b[1;32m      2\u001b[0m \u001b[0;31m# %matplotlib notebook\u001b[0m\u001b[0;34m\u001b[0m\u001b[0;34m\u001b[0m\u001b[0m\n\u001b[1;32m      3\u001b[0m \u001b[0;34m\u001b[0m\u001b[0m\n\u001b[0;32m----> 4\u001b[0;31m \u001b[0mplt_profit\u001b[0m \u001b[0;34m=\u001b[0m \u001b[0mpd\u001b[0m\u001b[0;34m.\u001b[0m\u001b[0mDataFrame\u001b[0m\u001b[0;34m(\u001b[0m\u001b[0mG\u001b[0m\u001b[0;34m)\u001b[0m\u001b[0;34m.\u001b[0m\u001b[0mplot\u001b[0m\u001b[0;34m(\u001b[0m\u001b[0mkind\u001b[0m\u001b[0;34m=\u001b[0m\u001b[0;34m'bar'\u001b[0m\u001b[0;34m)\u001b[0m\u001b[0;34m\u001b[0m\u001b[0m\n\u001b[0m\u001b[1;32m      5\u001b[0m \u001b[0mplt_profit\u001b[0m\u001b[0;34m.\u001b[0m\u001b[0mset_title\u001b[0m\u001b[0;34m(\u001b[0m\u001b[0;34m\"Overall profit for competing merchants\"\u001b[0m\u001b[0;34m)\u001b[0m\u001b[0;34m\u001b[0m\u001b[0m\n\u001b[1;32m      6\u001b[0m \u001b[0mplt_profit\u001b[0m\u001b[0;34m.\u001b[0m\u001b[0mset_ylabel\u001b[0m\u001b[0;34m(\u001b[0m\u001b[0;34m\"Profit\"\u001b[0m\u001b[0;34m)\u001b[0m\u001b[0;34m\u001b[0m\u001b[0m\n",
      "\u001b[0;32m/usr/local/lib/python3.5/dist-packages/pandas/plotting/_core.py\u001b[0m in \u001b[0;36m__call__\u001b[0;34m(self, x, y, kind, ax, subplots, sharex, sharey, layout, figsize, use_index, title, grid, legend, style, logx, logy, loglog, xticks, yticks, xlim, ylim, rot, fontsize, colormap, table, yerr, xerr, secondary_y, sort_columns, **kwds)\u001b[0m\n\u001b[1;32m   2675\u001b[0m                           \u001b[0mfontsize\u001b[0m\u001b[0;34m=\u001b[0m\u001b[0mfontsize\u001b[0m\u001b[0;34m,\u001b[0m \u001b[0mcolormap\u001b[0m\u001b[0;34m=\u001b[0m\u001b[0mcolormap\u001b[0m\u001b[0;34m,\u001b[0m \u001b[0mtable\u001b[0m\u001b[0;34m=\u001b[0m\u001b[0mtable\u001b[0m\u001b[0;34m,\u001b[0m\u001b[0;34m\u001b[0m\u001b[0m\n\u001b[1;32m   2676\u001b[0m                           \u001b[0myerr\u001b[0m\u001b[0;34m=\u001b[0m\u001b[0myerr\u001b[0m\u001b[0;34m,\u001b[0m \u001b[0mxerr\u001b[0m\u001b[0;34m=\u001b[0m\u001b[0mxerr\u001b[0m\u001b[0;34m,\u001b[0m \u001b[0msecondary_y\u001b[0m\u001b[0;34m=\u001b[0m\u001b[0msecondary_y\u001b[0m\u001b[0;34m,\u001b[0m\u001b[0;34m\u001b[0m\u001b[0m\n\u001b[0;32m-> 2677\u001b[0;31m                           sort_columns=sort_columns, **kwds)\n\u001b[0m\u001b[1;32m   2678\u001b[0m     \u001b[0m__call__\u001b[0m\u001b[0;34m.\u001b[0m\u001b[0m__doc__\u001b[0m \u001b[0;34m=\u001b[0m \u001b[0mplot_frame\u001b[0m\u001b[0;34m.\u001b[0m\u001b[0m__doc__\u001b[0m\u001b[0;34m\u001b[0m\u001b[0m\n\u001b[1;32m   2679\u001b[0m \u001b[0;34m\u001b[0m\u001b[0m\n",
      "\u001b[0;32m/usr/local/lib/python3.5/dist-packages/pandas/plotting/_core.py\u001b[0m in \u001b[0;36mplot_frame\u001b[0;34m(data, x, y, kind, ax, subplots, sharex, sharey, layout, figsize, use_index, title, grid, legend, style, logx, logy, loglog, xticks, yticks, xlim, ylim, rot, fontsize, colormap, table, yerr, xerr, secondary_y, sort_columns, **kwds)\u001b[0m\n\u001b[1;32m   1900\u001b[0m                  \u001b[0myerr\u001b[0m\u001b[0;34m=\u001b[0m\u001b[0myerr\u001b[0m\u001b[0;34m,\u001b[0m \u001b[0mxerr\u001b[0m\u001b[0;34m=\u001b[0m\u001b[0mxerr\u001b[0m\u001b[0;34m,\u001b[0m\u001b[0;34m\u001b[0m\u001b[0m\n\u001b[1;32m   1901\u001b[0m                  \u001b[0msecondary_y\u001b[0m\u001b[0;34m=\u001b[0m\u001b[0msecondary_y\u001b[0m\u001b[0;34m,\u001b[0m \u001b[0msort_columns\u001b[0m\u001b[0;34m=\u001b[0m\u001b[0msort_columns\u001b[0m\u001b[0;34m,\u001b[0m\u001b[0;34m\u001b[0m\u001b[0m\n\u001b[0;32m-> 1902\u001b[0;31m                  **kwds)\n\u001b[0m\u001b[1;32m   1903\u001b[0m \u001b[0;34m\u001b[0m\u001b[0m\n\u001b[1;32m   1904\u001b[0m \u001b[0;34m\u001b[0m\u001b[0m\n",
      "\u001b[0;32m/usr/local/lib/python3.5/dist-packages/pandas/plotting/_core.py\u001b[0m in \u001b[0;36m_plot\u001b[0;34m(data, x, y, subplots, ax, kind, **kwds)\u001b[0m\n\u001b[1;32m   1725\u001b[0m                             \u001b[0;32mpass\u001b[0m\u001b[0;34m\u001b[0m\u001b[0m\n\u001b[1;32m   1726\u001b[0m                 \u001b[0mdata\u001b[0m \u001b[0;34m=\u001b[0m \u001b[0mseries\u001b[0m\u001b[0;34m\u001b[0m\u001b[0m\n\u001b[0;32m-> 1727\u001b[0;31m         \u001b[0mplot_obj\u001b[0m \u001b[0;34m=\u001b[0m \u001b[0mklass\u001b[0m\u001b[0;34m(\u001b[0m\u001b[0mdata\u001b[0m\u001b[0;34m,\u001b[0m \u001b[0msubplots\u001b[0m\u001b[0;34m=\u001b[0m\u001b[0msubplots\u001b[0m\u001b[0;34m,\u001b[0m \u001b[0max\u001b[0m\u001b[0;34m=\u001b[0m\u001b[0max\u001b[0m\u001b[0;34m,\u001b[0m \u001b[0mkind\u001b[0m\u001b[0;34m=\u001b[0m\u001b[0mkind\u001b[0m\u001b[0;34m,\u001b[0m \u001b[0;34m**\u001b[0m\u001b[0mkwds\u001b[0m\u001b[0;34m)\u001b[0m\u001b[0;34m\u001b[0m\u001b[0m\n\u001b[0m\u001b[1;32m   1728\u001b[0m \u001b[0;34m\u001b[0m\u001b[0m\n\u001b[1;32m   1729\u001b[0m     \u001b[0mplot_obj\u001b[0m\u001b[0;34m.\u001b[0m\u001b[0mgenerate\u001b[0m\u001b[0;34m(\u001b[0m\u001b[0;34m)\u001b[0m\u001b[0;34m\u001b[0m\u001b[0m\n",
      "\u001b[0;32m/usr/local/lib/python3.5/dist-packages/pandas/plotting/_core.py\u001b[0m in \u001b[0;36m__init__\u001b[0;34m(self, data, **kwargs)\u001b[0m\n\u001b[1;32m   1172\u001b[0m \u001b[0;34m\u001b[0m\u001b[0m\n\u001b[1;32m   1173\u001b[0m         \u001b[0mself\u001b[0m\u001b[0;34m.\u001b[0m\u001b[0mlog\u001b[0m \u001b[0;34m=\u001b[0m \u001b[0mkwargs\u001b[0m\u001b[0;34m.\u001b[0m\u001b[0mpop\u001b[0m\u001b[0;34m(\u001b[0m\u001b[0;34m'log'\u001b[0m\u001b[0;34m,\u001b[0m \u001b[0;32mFalse\u001b[0m\u001b[0;34m)\u001b[0m\u001b[0;34m\u001b[0m\u001b[0m\n\u001b[0;32m-> 1174\u001b[0;31m         \u001b[0mMPLPlot\u001b[0m\u001b[0;34m.\u001b[0m\u001b[0m__init__\u001b[0m\u001b[0;34m(\u001b[0m\u001b[0mself\u001b[0m\u001b[0;34m,\u001b[0m \u001b[0mdata\u001b[0m\u001b[0;34m,\u001b[0m \u001b[0;34m**\u001b[0m\u001b[0mkwargs\u001b[0m\u001b[0;34m)\u001b[0m\u001b[0;34m\u001b[0m\u001b[0m\n\u001b[0m\u001b[1;32m   1175\u001b[0m \u001b[0;34m\u001b[0m\u001b[0m\n\u001b[1;32m   1176\u001b[0m         \u001b[0;32mif\u001b[0m \u001b[0mself\u001b[0m\u001b[0;34m.\u001b[0m\u001b[0mstacked\u001b[0m \u001b[0;32mor\u001b[0m \u001b[0mself\u001b[0m\u001b[0;34m.\u001b[0m\u001b[0msubplots\u001b[0m\u001b[0;34m:\u001b[0m\u001b[0;34m\u001b[0m\u001b[0m\n",
      "\u001b[0;32m/usr/local/lib/python3.5/dist-packages/pandas/plotting/_core.py\u001b[0m in \u001b[0;36m__init__\u001b[0;34m(self, data, kind, by, subplots, sharex, sharey, use_index, figsize, grid, legend, rot, ax, fig, title, xlim, ylim, xticks, yticks, sort_columns, fontsize, secondary_y, colormap, table, layout, **kwds)\u001b[0m\n\u001b[1;32m     98\u001b[0m                  table=False, layout=None, **kwds):\n\u001b[1;32m     99\u001b[0m \u001b[0;34m\u001b[0m\u001b[0m\n\u001b[0;32m--> 100\u001b[0;31m         \u001b[0m_converter\u001b[0m\u001b[0;34m.\u001b[0m\u001b[0m_WARN\u001b[0m \u001b[0;34m=\u001b[0m \u001b[0;32mFalse\u001b[0m\u001b[0;34m\u001b[0m\u001b[0m\n\u001b[0m\u001b[1;32m    101\u001b[0m         \u001b[0mself\u001b[0m\u001b[0;34m.\u001b[0m\u001b[0mdata\u001b[0m \u001b[0;34m=\u001b[0m \u001b[0mdata\u001b[0m\u001b[0;34m\u001b[0m\u001b[0m\n\u001b[1;32m    102\u001b[0m         \u001b[0mself\u001b[0m\u001b[0;34m.\u001b[0m\u001b[0mby\u001b[0m \u001b[0;34m=\u001b[0m \u001b[0mby\u001b[0m\u001b[0;34m\u001b[0m\u001b[0m\n",
      "\u001b[0;31mNameError\u001b[0m: name '_converter' is not defined"
     ]
    }
   ],
   "source": [
    "%matplotlib inline\n",
    "# %matplotlib notebook\n",
    "\n",
    "plt_profit = pd.DataFrame(G).plot(kind='bar')\n",
    "plt_profit.set_title(\"Overall profit for competing merchants\")\n",
    "plt_profit.set_ylabel(\"Profit\")\n",
    "plt_profit.set_xlabel(\"Merchant\")\n",
    "plt_profit.legend_.remove()\n",
    "\n",
    "plt_acc_profit = pd.DataFrame(G_acc).plot()\n",
    "plt_acc_profit.set_ylabel(\"Accumulated Profit\")\n",
    "plt_acc_profit.set_xlabel(\"Time\")\n",
    "plt_acc_profit.set_title(\"Accumulated profit over time for competing merchants\")\n",
    "\n",
    "print('Assigned static qualities for merchants: {}'.format(list(map(int, q))))"
   ]
  },
  {
   "cell_type": "code",
   "execution_count": 9,
   "metadata": {},
   "outputs": [
    {
     "data": {
      "image/png": "[encoded data removed]",
      "text/plain": [
       "<matplotlib.figure.Figure at 0x1199a7cf8>"
      ]
     },
     "metadata": {},
     "output_type": "display_data"
    }
   ],
   "source": [
    "# %matplotlib notebook\n",
    "\n",
    "for k in range(K):\n",
    "    plt.step(tm[60:180], p_history[60-1:180-1, k]) # len(tm) == 1 + len(p_hist)\n",
    "    # selecting 40-180 since it shows nice trajectories\n",
    "plt.legend()\n",
    "plt.show()"
   ]
  }
 ],
 "metadata": {
  "kernelspec": {
   "display_name": "Python 3",
   "language": "python",
   "name": "python3"
  },
  "language_info": {
   "codemirror_mode": {
    "name": "ipython",
    "version": 3
   },
   "file_extension": ".py",
   "mimetype": "text/x-python",
   "name": "python",
   "nbconvert_exporter": "python",
   "pygments_lexer": "ipython3",
   "version": "3.5.2"
  }
 },
 "nbformat": 4,
 "nbformat_minor": 2
}
